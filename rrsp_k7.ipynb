{
 "cells": [
  {
   "cell_type": "code",
   "execution_count": 3,
   "metadata": {},
   "outputs": [
    {
     "name": "stderr",
     "output_type": "stream",
     "text": [
      "Invalid file: /Volumes/RRUSB/Rsongs/._JVKE---golden-hour--official-music-video---251.mp3\n",
      "Invalid file: /Volumes/RRUSB/Rsongs/-bad\n",
      "Invalid file: /Volumes/RRUSB/Rsongs/._.DS_Store\n",
      "Invalid file: /Volumes/RRUSB/Rsongs/.DS_Store\n",
      "Invalid file: /Volumes/RRUSB/Rsongs/._Midas-The-Jagaban---Party-With-A-Jagaban.mp3\n"
     ]
    },
    {
     "name": "stdout",
     "output_type": "stream",
     "text": [
      "Total duration: 91:43\n"
     ]
    }
   ],
   "source": [
    "\n",
    "import rrspotipy\n",
    "\n",
    "DIR=\"/Volumes/RRUSB/Rsongs\"\n",
    "\n",
    "playlist=rrspotipy.Playlist.from_dir(DIR)\n",
    "playlist.verif()\n",
    "\n",
    "print(f\"Total duration: {playlist.get_total_duration()}\")\n",
    "a=playlist.k7(45*60+30,45*60+45)"
   ]
  },
  {
   "cell_type": "code",
   "execution_count": 10,
   "metadata": {},
   "outputs": [
    {
     "name": "stdout",
     "output_type": "stream",
     "text": [
      "45:35\n"
     ]
    }
   ],
   "source": [
    "print(a[0][0])"
   ]
  }
 ],
 "metadata": {
  "kernelspec": {
   "display_name": "base",
   "language": "python",
   "name": "python3"
  },
  "language_info": {
   "codemirror_mode": {
    "name": "ipython",
    "version": 3
   },
   "file_extension": ".py",
   "mimetype": "text/x-python",
   "name": "python",
   "nbconvert_exporter": "python",
   "pygments_lexer": "ipython3",
   "version": "3.11.5"
  }
 },
 "nbformat": 4,
 "nbformat_minor": 2
}
